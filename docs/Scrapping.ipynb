{
 "cells": [
  {
   "cell_type": "code",
   "execution_count": 1,
   "metadata": {},
   "outputs": [],
   "source": [
    "from bs4 import BeautifulSoup\n",
    "import pandas as pd\n",
    "import requests, re"
   ]
  },
  {
   "cell_type": "code",
   "execution_count": 126,
   "metadata": {},
   "outputs": [],
   "source": [
    "url = \"http://digilib.uad.ac.id//penelitian/Penelitian/index/::::--penerapan%20text%20mining::5000\"\n",
    "response = requests.get(url)"
   ]
  },
  {
   "cell_type": "code",
   "execution_count": 127,
   "metadata": {},
   "outputs": [],
   "source": [
    "soup = BeautifulSoup(response.text, \"html.parser\")"
   ]
  },
  {
   "cell_type": "code",
   "execution_count": 128,
   "metadata": {},
   "outputs": [],
   "source": [
    "div_block = soup.findAll('div', attrs={\"class\": \"news_item\"})"
   ]
  },
  {
   "cell_type": "code",
   "execution_count": 129,
   "metadata": {},
   "outputs": [],
   "source": [
    "data = list()\n",
    "for doc in div_block:\n",
    "    title = doc.find(\"h3\").contents[0].text\n",
    "    title = re.sub(r'[\\r\\n]','',title).split(\" \")\n",
    "    title = ' '.join([i for i in title if i is not \"\"])\n",
    "    try:\n",
    "        obj = {\n",
    "            \"author\": doc.find(\"br\").previousSibling.split(\":\")[1].title(),\n",
    "            \"title\": title.title(),\n",
    "            \"url\": doc.find(\"h3\").contents[0].attrs[\"href\"],\n",
    "            \"year\": doc.findAll(\"br\")[1].nextSibling.split(\",\")[2]\n",
    "        }\n",
    "        data.append(obj)\n",
    "    except IndexError:\n",
    "        pass"
   ]
  },
  {
   "cell_type": "code",
   "execution_count": 130,
   "metadata": {},
   "outputs": [
    {
     "data": {
      "text/html": [
       "<div>\n",
       "<style scoped>\n",
       "    .dataframe tbody tr th:only-of-type {\n",
       "        vertical-align: middle;\n",
       "    }\n",
       "\n",
       "    .dataframe tbody tr th {\n",
       "        vertical-align: top;\n",
       "    }\n",
       "\n",
       "    .dataframe thead th {\n",
       "        text-align: right;\n",
       "    }\n",
       "</style>\n",
       "<table border=\"1\" class=\"dataframe\">\n",
       "  <thead>\n",
       "    <tr style=\"text-align: right;\">\n",
       "      <th></th>\n",
       "      <th>author</th>\n",
       "      <th>title</th>\n",
       "      <th>url</th>\n",
       "      <th>year</th>\n",
       "    </tr>\n",
       "  </thead>\n",
       "  <tbody>\n",
       "    <tr>\n",
       "      <td>0</td>\n",
       "      <td>Ervita Kusuma Putri</td>\n",
       "      <td>Penerapan Text Mining Pada Sistem Klasifikasi ...</td>\n",
       "      <td>http://digilib.uad.ac.id/penelitian/Penelitian...</td>\n",
       "      <td>2014</td>\n",
       "    </tr>\n",
       "    <tr>\n",
       "      <td>1</td>\n",
       "      <td>Nila Hutami Putri</td>\n",
       "      <td>Penerapan Text Mining Untuk Pengelompokan Tren...</td>\n",
       "      <td>http://digilib.uad.ac.id/penelitian/Penelitian...</td>\n",
       "      <td>2018</td>\n",
       "    </tr>\n",
       "    <tr>\n",
       "      <td>2</td>\n",
       "      <td>Ika Kurnia Saputri</td>\n",
       "      <td>Penerapan Text Mining Pengelompokkan Judul Ker...</td>\n",
       "      <td>http://digilib.uad.ac.id/penelitian/Penelitian...</td>\n",
       "      <td>2017</td>\n",
       "    </tr>\n",
       "    <tr>\n",
       "      <td>3</td>\n",
       "      <td>Rika Nursita</td>\n",
       "      <td>Penerapan Text Mining Pengelompokan Judul Mana...</td>\n",
       "      <td>http://digilib.uad.ac.id/penelitian/Penelitian...</td>\n",
       "      <td>2019</td>\n",
       "    </tr>\n",
       "  </tbody>\n",
       "</table>\n",
       "</div>"
      ],
      "text/plain": [
       "                 author                                              title  \\\n",
       "0   Ervita Kusuma Putri  Penerapan Text Mining Pada Sistem Klasifikasi ...   \n",
       "1     Nila Hutami Putri  Penerapan Text Mining Untuk Pengelompokan Tren...   \n",
       "2    Ika Kurnia Saputri  Penerapan Text Mining Pengelompokkan Judul Ker...   \n",
       "3          Rika Nursita  Penerapan Text Mining Pengelompokan Judul Mana...   \n",
       "\n",
       "                                                 url   year  \n",
       "0  http://digilib.uad.ac.id/penelitian/Penelitian...   2014  \n",
       "1  http://digilib.uad.ac.id/penelitian/Penelitian...   2018  \n",
       "2  http://digilib.uad.ac.id/penelitian/Penelitian...   2017  \n",
       "3  http://digilib.uad.ac.id/penelitian/Penelitian...   2019  "
      ]
     },
     "execution_count": 130,
     "metadata": {},
     "output_type": "execute_result"
    }
   ],
   "source": [
    "df = pd.DataFrame(data)\n",
    "df"
   ]
  },
  {
   "cell_type": "code",
   "execution_count": 131,
   "metadata": {},
   "outputs": [],
   "source": [
    "df.to_excel(\"dataset_scrapper.xlsx\", index=False)"
   ]
  },
  {
   "cell_type": "code",
   "execution_count": 132,
   "metadata": {},
   "outputs": [
    {
     "data": {
      "text/html": [
       "<div>\n",
       "<style scoped>\n",
       "    .dataframe tbody tr th:only-of-type {\n",
       "        vertical-align: middle;\n",
       "    }\n",
       "\n",
       "    .dataframe tbody tr th {\n",
       "        vertical-align: top;\n",
       "    }\n",
       "\n",
       "    .dataframe thead th {\n",
       "        text-align: right;\n",
       "    }\n",
       "</style>\n",
       "<table border=\"1\" class=\"dataframe\">\n",
       "  <thead>\n",
       "    <tr style=\"text-align: right;\">\n",
       "      <th></th>\n",
       "      <th>author</th>\n",
       "      <th>title</th>\n",
       "      <th>url</th>\n",
       "      <th>year</th>\n",
       "    </tr>\n",
       "  </thead>\n",
       "  <tbody>\n",
       "    <tr>\n",
       "      <td>0</td>\n",
       "      <td>Ervita Kusuma Putri</td>\n",
       "      <td>Penerapan Text Mining Pada Sistem Klasifikasi ...</td>\n",
       "      <td>http://digilib.uad.ac.id/penelitian/Penelitian...</td>\n",
       "      <td>2014</td>\n",
       "    </tr>\n",
       "    <tr>\n",
       "      <td>1</td>\n",
       "      <td>Nila Hutami Putri</td>\n",
       "      <td>Penerapan Text Mining Untuk Pengelompokan Tren...</td>\n",
       "      <td>http://digilib.uad.ac.id/penelitian/Penelitian...</td>\n",
       "      <td>2018</td>\n",
       "    </tr>\n",
       "    <tr>\n",
       "      <td>2</td>\n",
       "      <td>Ika Kurnia Saputri</td>\n",
       "      <td>Penerapan Text Mining Pengelompokkan Judul Ker...</td>\n",
       "      <td>http://digilib.uad.ac.id/penelitian/Penelitian...</td>\n",
       "      <td>2017</td>\n",
       "    </tr>\n",
       "    <tr>\n",
       "      <td>3</td>\n",
       "      <td>Rika Nursita</td>\n",
       "      <td>Penerapan Text Mining Pengelompokan Judul Mana...</td>\n",
       "      <td>http://digilib.uad.ac.id/penelitian/Penelitian...</td>\n",
       "      <td>2019</td>\n",
       "    </tr>\n",
       "  </tbody>\n",
       "</table>\n",
       "</div>"
      ],
      "text/plain": [
       "                 author                                              title  \\\n",
       "0   Ervita Kusuma Putri  Penerapan Text Mining Pada Sistem Klasifikasi ...   \n",
       "1     Nila Hutami Putri  Penerapan Text Mining Untuk Pengelompokan Tren...   \n",
       "2    Ika Kurnia Saputri  Penerapan Text Mining Pengelompokkan Judul Ker...   \n",
       "3          Rika Nursita  Penerapan Text Mining Pengelompokan Judul Mana...   \n",
       "\n",
       "                                                 url  year  \n",
       "0  http://digilib.uad.ac.id/penelitian/Penelitian...  2014  \n",
       "1  http://digilib.uad.ac.id/penelitian/Penelitian...  2018  \n",
       "2  http://digilib.uad.ac.id/penelitian/Penelitian...  2017  \n",
       "3  http://digilib.uad.ac.id/penelitian/Penelitian...  2019  "
      ]
     },
     "execution_count": 132,
     "metadata": {},
     "output_type": "execute_result"
    }
   ],
   "source": [
    "data_scrapper = pd.read_excel(\"dataset_scrapper.xlsx\")\n",
    "data_scrapper"
   ]
  }
 ],
 "metadata": {
  "kernelspec": {
   "display_name": "Python 3",
   "language": "python",
   "name": "python3"
  },
  "language_info": {
   "codemirror_mode": {
    "name": "ipython",
    "version": 3
   },
   "file_extension": ".py",
   "mimetype": "text/x-python",
   "name": "python",
   "nbconvert_exporter": "python",
   "pygments_lexer": "ipython3",
   "version": "3.7.4"
  }
 },
 "nbformat": 4,
 "nbformat_minor": 2
}
