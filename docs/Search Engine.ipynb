{
 "cells": [
  {
   "cell_type": "code",
   "execution_count": 37,
   "metadata": {},
   "outputs": [],
   "source": [
    "# Load libraries\n",
    "from Sastrawi.Stemmer.StemmerFactory import StemmerFactory\n",
    "from Sastrawi.StopWordRemover.StopWordRemoverFactory import StopWordRemoverFactory\n",
    "from stop_words import get_stop_words\n",
    "import pandas as pd\n",
    "import numpy as np \n",
    "import string, re\n",
    "import random\n",
    "\n",
    "stemmer = StemmerFactory().create_stemmer()\n",
    "stopwords_id = get_stop_words(\"id\")\n",
    "\n",
    "def preprocess(text):\n",
    "    text = text.lower().split(\" \")\n",
    "    text_clean = \" \".join([i for i in text if i not in stopwords_id])\n",
    "    text_stem = stemmer.stem(text_clean)\n",
    "    result = ''.join([i for i in text_clean if not i.isdigit()])\n",
    "    result = re.sub(r'[^\\w\\s]','',result)\n",
    "    return result"
   ]
  },
  {
   "cell_type": "code",
   "execution_count": 57,
   "metadata": {},
   "outputs": [
    {
     "data": {
      "text/plain": [
       "'text mining menggunakan tf idf'"
      ]
     },
     "execution_count": 57,
     "metadata": {},
     "output_type": "execute_result"
    }
   ],
   "source": [
    "query = \"tolong dong kasih referensi judul tentang text mining menggunakan tf idf\"\n",
    "query = query.partition(\"tentang\")[2].lstrip()\n",
    "query"
   ]
  },
  {
   "cell_type": "code",
   "execution_count": 146,
   "metadata": {},
   "outputs": [],
   "source": [
    "from sklearn.feature_extraction.text import TfidfVectorizer\n",
    "class Engine(object):\n",
    "    \n",
    "    def __init__(self, query):\n",
    "        self.dataset = pd.read_excel(\"dataset_sample.xlsx\")\n",
    "        self.phrase = [query] + self.dataset[\"preprocessed_title\"].tolist()\n",
    "        self.vectorizer = TfidfVectorizer()\n",
    "        \n",
    "    def get_scores(self):\n",
    "        transform = vectorizer.fit_transform(self.phrase)\n",
    "        return (transform[0, :] * transform[1:, :].T).A[0]"
   ]
  },
  {
   "cell_type": "code",
   "execution_count": 147,
   "metadata": {},
   "outputs": [
    {
     "data": {
      "text/plain": [
       "array([0.04373243, 0.12370086, 0.16363027, 0.10630784, 0.03926075,\n",
       "       0.13334239, 0.10400326, 0.14267936, 0.08713263, 0.04255331])"
      ]
     },
     "execution_count": 147,
     "metadata": {},
     "output_type": "execute_result"
    }
   ],
   "source": [
    "test = Engine(query=query)\n",
    "test.get_scores()"
   ]
  },
  {
   "cell_type": "code",
   "execution_count": 66,
   "metadata": {},
   "outputs": [
    {
     "data": {
      "text/plain": [
       "['apa']"
      ]
     },
     "execution_count": 66,
     "metadata": {},
     "output_type": "execute_result"
    }
   ],
   "source": [
    "data = [\"apa\", \"dia\"]\n",
    "data[0:1]"
   ]
  },
  {
   "cell_type": "code",
   "execution_count": 70,
   "metadata": {},
   "outputs": [
    {
     "data": {
      "text/plain": [
       "['text mining menggunakan tf idf']"
      ]
     },
     "execution_count": 70,
     "metadata": {},
     "output_type": "execute_result"
    }
   ],
   "source": [
    "[query]"
   ]
  },
  {
   "cell_type": "code",
   "execution_count": 130,
   "metadata": {},
   "outputs": [
    {
     "data": {
      "text/plain": [
       "['text mining menggunakan tf idf',\n",
       " 'pengelompokkan data penyakit berdasarkan usia menggunakan metode fuzzy cmeans',\n",
       " 'text mining menggunakan metode single linkage manhattan distance similarity pengelompokkan trend topik kerja praktik',\n",
       " 'text mining menggunakan metode snn evclidean distance mengelompokan email',\n",
       " 'text mining klasifikasi judul skripsi teknik industri universitas ahmad dahlan berdasarkan bidang minat menggunakan metode naive bayes',\n",
       " 'pengembangan analisis sentimen sistem indeks kinerja dosen menggunakan metode naive bayes',\n",
       " 'penerapan text mining pengelompokkan judul kerja praktek menggunakan metode kmeans clustering cosineâ\\xa0 similarity',\n",
       " 'pemanfaatan text mining mengklasifikasi sms spam porno algoritma c',\n",
       " 'implementasi text mining pengelompokkan judul penelitian dosen menggunakan metode kmedoids cosine similarity',\n",
       " 'aplikasi web text mining pengelompokkan judul jurnal publikasi metode snn  shared nearest neighbor',\n",
       " 'analisis sentimen komentar tulisan blog menggunakan metode knearest neighbour']"
      ]
     },
     "execution_count": 130,
     "metadata": {},
     "output_type": "execute_result"
    }
   ],
   "source": [
    "dataset = pd.read_excel(\"dataset_sample.xlsx\")\n",
    "phrase = [query] + dataset[\"preprocessed_title\"].tolist()\n",
    "title = dataset[\"preprocessed_title\"].tolist()\n",
    "phrase"
   ]
  },
  {
   "cell_type": "code",
   "execution_count": 131,
   "metadata": {},
   "outputs": [],
   "source": [
    "vectorizer = TfidfVectorizer()"
   ]
  },
  {
   "cell_type": "code",
   "execution_count": 139,
   "metadata": {},
   "outputs": [
    {
     "data": {
      "text/plain": [
       "array([[0.        , 0.        , 0.        , 0.        , 0.        ,\n",
       "        0.        , 0.        , 0.        , 0.        , 0.        ,\n",
       "        0.        , 0.        , 0.        , 0.        , 0.        ,\n",
       "        0.        , 0.        , 0.        , 0.        , 0.61959633,\n",
       "        0.        , 0.        , 0.        , 0.        , 0.        ,\n",
       "        0.        , 0.        , 0.        , 0.        , 0.        ,\n",
       "        0.        , 0.        , 0.        , 0.        , 0.        ,\n",
       "        0.26240158, 0.        , 0.        , 0.        , 0.28578504,\n",
       "        0.        , 0.        , 0.        , 0.        , 0.        ,\n",
       "        0.        , 0.        , 0.        , 0.        , 0.        ,\n",
       "        0.        , 0.        , 0.        , 0.        , 0.        ,\n",
       "        0.        , 0.        , 0.        , 0.        , 0.        ,\n",
       "        0.        , 0.        , 0.        , 0.        , 0.28578504,\n",
       "        0.61959633, 0.        , 0.        , 0.        , 0.        ,\n",
       "        0.        , 0.        ],\n",
       "       [0.        , 0.        , 0.        , 0.        , 0.        ,\n",
       "        0.33637643, 0.        , 0.        , 0.        , 0.39353154,\n",
       "        0.        , 0.        , 0.        , 0.39353154, 0.        ,\n",
       "        0.        , 0.        , 0.        , 0.39353154, 0.        ,\n",
       "        0.        , 0.        , 0.        , 0.        , 0.        ,\n",
       "        0.        , 0.        , 0.        , 0.        , 0.        ,\n",
       "        0.        , 0.        , 0.        , 0.        , 0.        ,\n",
       "        0.16666222, 0.        , 0.16666222, 0.        , 0.        ,\n",
       "        0.        , 0.        , 0.        , 0.        , 0.        ,\n",
       "        0.        , 0.        , 0.23866913, 0.        , 0.39353154,\n",
       "        0.        , 0.        , 0.        , 0.        , 0.        ,\n",
       "        0.        , 0.        , 0.        , 0.        , 0.        ,\n",
       "        0.        , 0.        , 0.        , 0.        , 0.        ,\n",
       "        0.        , 0.        , 0.        , 0.        , 0.        ,\n",
       "        0.39353154, 0.        ],\n",
       "       [0.        , 0.        , 0.        , 0.        , 0.        ,\n",
       "        0.        , 0.        , 0.        , 0.        , 0.        ,\n",
       "        0.        , 0.        , 0.        , 0.        , 0.28213951,\n",
       "        0.        , 0.        , 0.        , 0.        , 0.        ,\n",
       "        0.        , 0.        , 0.        , 0.        , 0.        ,\n",
       "        0.28213951, 0.        , 0.        , 0.        , 0.        ,\n",
       "        0.        , 0.        , 0.330079  , 0.330079  , 0.        ,\n",
       "        0.13978981, 0.        , 0.13978981, 0.        , 0.15224693,\n",
       "        0.        , 0.        , 0.        , 0.        , 0.        ,\n",
       "        0.        , 0.        , 0.20018642, 0.        , 0.        ,\n",
       "        0.        , 0.        , 0.330079  , 0.        , 0.        ,\n",
       "        0.        , 0.24812591, 0.330079  , 0.        , 0.        ,\n",
       "        0.        , 0.        , 0.        , 0.        , 0.15224693,\n",
       "        0.        , 0.330079  , 0.330079  , 0.        , 0.        ,\n",
       "        0.        , 0.        ],\n",
       "       [0.        , 0.        , 0.        , 0.        , 0.        ,\n",
       "        0.        , 0.        , 0.        , 0.        , 0.        ,\n",
       "        0.        , 0.        , 0.        , 0.        , 0.37321136,\n",
       "        0.        , 0.43662524, 0.43662524, 0.        , 0.        ,\n",
       "        0.        , 0.        , 0.        , 0.        , 0.        ,\n",
       "        0.        , 0.        , 0.        , 0.        , 0.        ,\n",
       "        0.        , 0.        , 0.        , 0.        , 0.43662524,\n",
       "        0.18491257, 0.        , 0.18491257, 0.        , 0.20139073,\n",
       "        0.        , 0.        , 0.        , 0.        , 0.        ,\n",
       "        0.        , 0.        , 0.        , 0.        , 0.        ,\n",
       "        0.        , 0.        , 0.        , 0.        , 0.        ,\n",
       "        0.        , 0.        , 0.        , 0.        , 0.        ,\n",
       "        0.        , 0.37321136, 0.        , 0.        , 0.20139073,\n",
       "        0.        , 0.        , 0.        , 0.        , 0.        ,\n",
       "        0.        , 0.        ],\n",
       "       [0.28366809, 0.        , 0.        , 0.        , 0.24246916,\n",
       "        0.24246916, 0.28366809, 0.        , 0.        , 0.        ,\n",
       "        0.        , 0.        , 0.28366809, 0.        , 0.        ,\n",
       "        0.        , 0.        , 0.        , 0.        , 0.        ,\n",
       "        0.        , 0.        , 0.28366809, 0.19056464, 0.        ,\n",
       "        0.        , 0.        , 0.28366809, 0.        , 0.        ,\n",
       "        0.        , 0.        , 0.        , 0.        , 0.        ,\n",
       "        0.1201346 , 0.        , 0.1201346 , 0.28366809, 0.13084018,\n",
       "        0.24246916, 0.        , 0.        , 0.        , 0.        ,\n",
       "        0.        , 0.        , 0.        , 0.        , 0.        ,\n",
       "        0.        , 0.        , 0.        , 0.        , 0.        ,\n",
       "        0.        , 0.        , 0.        , 0.        , 0.28366809,\n",
       "        0.        , 0.        , 0.        , 0.28366809, 0.13084018,\n",
       "        0.        , 0.        , 0.        , 0.        , 0.28366809,\n",
       "        0.        , 0.        ],\n",
       "       [0.        , 0.        , 0.30198165, 0.        , 0.30198165,\n",
       "        0.        , 0.        , 0.        , 0.        , 0.        ,\n",
       "        0.        , 0.        , 0.        , 0.        , 0.        ,\n",
       "        0.30198165, 0.        , 0.        , 0.        , 0.        ,\n",
       "        0.        , 0.35329259, 0.        , 0.        , 0.        ,\n",
       "        0.        , 0.35329259, 0.        , 0.        , 0.        ,\n",
       "        0.        , 0.        , 0.        , 0.        , 0.        ,\n",
       "        0.14962086, 0.        , 0.14962086, 0.        , 0.        ,\n",
       "        0.30198165, 0.        , 0.        , 0.        , 0.        ,\n",
       "        0.        , 0.        , 0.        , 0.35329259, 0.        ,\n",
       "        0.        , 0.        , 0.        , 0.        , 0.30198165,\n",
       "        0.        , 0.        , 0.        , 0.35329259, 0.        ,\n",
       "        0.        , 0.        , 0.        , 0.        , 0.        ,\n",
       "        0.        , 0.        , 0.        , 0.        , 0.        ,\n",
       "        0.        , 0.        ],\n",
       "       [0.        , 0.        , 0.        , 0.        , 0.        ,\n",
       "        0.        , 0.        , 0.        , 0.35580613, 0.        ,\n",
       "        0.        , 0.35580613, 0.        , 0.        , 0.        ,\n",
       "        0.        , 0.        , 0.        , 0.        , 0.        ,\n",
       "        0.        , 0.        , 0.        , 0.23902606, 0.        ,\n",
       "        0.30413013, 0.        , 0.        , 0.35580613, 0.        ,\n",
       "        0.        , 0.        , 0.        , 0.        , 0.        ,\n",
       "        0.15068535, 0.        , 0.15068535, 0.        , 0.16411341,\n",
       "        0.        , 0.        , 0.        , 0.        , 0.        ,\n",
       "        0.        , 0.35580613, 0.21578942, 0.        , 0.        ,\n",
       "        0.        , 0.35580613, 0.        , 0.        , 0.        ,\n",
       "        0.        , 0.26746542, 0.        , 0.        , 0.        ,\n",
       "        0.        , 0.        , 0.        , 0.        , 0.16411341,\n",
       "        0.        , 0.        , 0.        , 0.        , 0.        ,\n",
       "        0.        , 0.        ],\n",
       "       [0.        , 0.39449982, 0.        , 0.        , 0.        ,\n",
       "        0.        , 0.        , 0.        , 0.        , 0.        ,\n",
       "        0.        , 0.        , 0.        , 0.        , 0.        ,\n",
       "        0.        , 0.        , 0.        , 0.        , 0.        ,\n",
       "        0.        , 0.        , 0.        , 0.        , 0.        ,\n",
       "        0.        , 0.        , 0.        , 0.        , 0.        ,\n",
       "        0.        , 0.        , 0.        , 0.        , 0.        ,\n",
       "        0.        , 0.39449982, 0.        , 0.        , 0.18196064,\n",
       "        0.        , 0.        , 0.        , 0.        , 0.39449982,\n",
       "        0.        , 0.        , 0.        , 0.        , 0.        ,\n",
       "        0.39449982, 0.        , 0.        , 0.        , 0.        ,\n",
       "        0.        , 0.        , 0.        , 0.        , 0.        ,\n",
       "        0.39449982, 0.        , 0.39449982, 0.        , 0.18196064,\n",
       "        0.        , 0.        , 0.        , 0.        , 0.        ,\n",
       "        0.        , 0.        ],\n",
       "       [0.        , 0.        , 0.        , 0.        , 0.        ,\n",
       "        0.        , 0.        , 0.        , 0.        , 0.        ,\n",
       "        0.38072056, 0.        , 0.        , 0.        , 0.        ,\n",
       "        0.32542608, 0.        , 0.        , 0.        , 0.        ,\n",
       "        0.38072056, 0.        , 0.        , 0.25576326, 0.        ,\n",
       "        0.        , 0.        , 0.        , 0.        , 0.38072056,\n",
       "        0.        , 0.        , 0.        , 0.        , 0.        ,\n",
       "        0.16123672, 0.        , 0.16123672, 0.        , 0.17560504,\n",
       "        0.        , 0.        , 0.        , 0.        , 0.        ,\n",
       "        0.38072056, 0.        , 0.23089953, 0.        , 0.        ,\n",
       "        0.        , 0.        , 0.        , 0.        , 0.        ,\n",
       "        0.        , 0.28619402, 0.        , 0.        , 0.        ,\n",
       "        0.        , 0.        , 0.        , 0.        , 0.17560504,\n",
       "        0.        , 0.        , 0.        , 0.        , 0.        ,\n",
       "        0.        , 0.        ],\n",
       "       [0.        , 0.        , 0.        , 0.330507  , 0.        ,\n",
       "        0.        , 0.        , 0.        , 0.        , 0.        ,\n",
       "        0.        , 0.        , 0.        , 0.        , 0.        ,\n",
       "        0.        , 0.        , 0.        , 0.        , 0.        ,\n",
       "        0.        , 0.        , 0.        , 0.22203043, 0.330507  ,\n",
       "        0.        , 0.        , 0.        , 0.        , 0.        ,\n",
       "        0.        , 0.        , 0.        , 0.        , 0.        ,\n",
       "        0.        , 0.        , 0.13997107, 0.        , 0.15244435,\n",
       "        0.        , 0.330507  , 0.330507  , 0.        , 0.        ,\n",
       "        0.        , 0.        , 0.20044599, 0.        , 0.        ,\n",
       "        0.        , 0.        , 0.        , 0.330507  , 0.        ,\n",
       "        0.330507  , 0.        , 0.        , 0.        , 0.        ,\n",
       "        0.        , 0.28250536, 0.        , 0.        , 0.15244435,\n",
       "        0.        , 0.        , 0.        , 0.        , 0.        ,\n",
       "        0.        , 0.330507  ],\n",
       "       [0.        , 0.        , 0.32730702, 0.        , 0.        ,\n",
       "        0.        , 0.        , 0.38292111, 0.        , 0.        ,\n",
       "        0.        , 0.        , 0.        , 0.        , 0.        ,\n",
       "        0.        , 0.        , 0.        , 0.        , 0.        ,\n",
       "        0.        , 0.        , 0.        , 0.        , 0.        ,\n",
       "        0.        , 0.        , 0.        , 0.        , 0.        ,\n",
       "        0.38292111, 0.38292111, 0.        , 0.        , 0.        ,\n",
       "        0.16216866, 0.        , 0.16216866, 0.        , 0.        ,\n",
       "        0.        , 0.        , 0.        , 0.38292111, 0.        ,\n",
       "        0.        , 0.        , 0.        , 0.        , 0.        ,\n",
       "        0.        , 0.        , 0.        , 0.        , 0.32730702,\n",
       "        0.        , 0.        , 0.        , 0.        , 0.        ,\n",
       "        0.        , 0.        , 0.        , 0.        , 0.        ,\n",
       "        0.        , 0.        , 0.        , 0.38292111, 0.        ,\n",
       "        0.        , 0.        ]])"
      ]
     },
     "execution_count": 139,
     "metadata": {},
     "output_type": "execute_result"
    }
   ],
   "source": [
    "transform_title = vectorizer.fit_transform(title)\n",
    "transform_query = vectorizer.fit_transform(phrase)\n",
    "transform_query.toarray()"
   ]
  },
  {
   "cell_type": "code",
   "execution_count": 137,
   "metadata": {},
   "outputs": [],
   "source": [
    "# from sklearn.metrics.pairwise import cosine_similarity\n",
    "# cosine_similarity(transform_query, transform_title)"
   ]
  },
  {
   "cell_type": "code",
   "execution_count": 140,
   "metadata": {},
   "outputs": [
    {
     "data": {
      "text/plain": [
       "array([0.04373243, 0.12370086, 0.16363027, 0.10630784, 0.03926075,\n",
       "       0.13334239, 0.10400326, 0.14267936, 0.08713263, 0.04255331])"
      ]
     },
     "execution_count": 140,
     "metadata": {},
     "output_type": "execute_result"
    }
   ],
   "source": [
    "(transform_query[0, :] * transform_query[1:, :].T).A[0]"
   ]
  },
  {
   "cell_type": "code",
   "execution_count": null,
   "metadata": {},
   "outputs": [],
   "source": []
  }
 ],
 "metadata": {
  "kernelspec": {
   "display_name": "Python 3",
   "language": "python",
   "name": "python3"
  },
  "language_info": {
   "codemirror_mode": {
    "name": "ipython",
    "version": 3
   },
   "file_extension": ".py",
   "mimetype": "text/x-python",
   "name": "python",
   "nbconvert_exporter": "python",
   "pygments_lexer": "ipython3",
   "version": "3.7.3"
  }
 },
 "nbformat": 4,
 "nbformat_minor": 2
}
