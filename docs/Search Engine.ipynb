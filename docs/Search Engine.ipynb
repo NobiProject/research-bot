{
 "cells": [
  {
   "cell_type": "code",
   "execution_count": 103,
   "metadata": {},
   "outputs": [],
   "source": [
    "# Load libraries\n",
    "from Sastrawi.Stemmer.StemmerFactory import StemmerFactory\n",
    "from Sastrawi.StopWordRemover.StopWordRemoverFactory import StopWordRemoverFactory\n",
    "from stop_words import get_stop_words\n",
    "import pandas as pd\n",
    "import numpy as np \n",
    "import string, re\n",
    "import random\n",
    "\n",
    "stemmer = StemmerFactory().create_stemmer()\n",
    "stopwords_id = get_stop_words(\"id\")\n",
    "\n",
    "def preprocess(text):\n",
    "    text = text.lower().split(\" \")\n",
    "    text_clean = \" \".join([i for i in text if i not in stopwords_id])\n",
    "    text_stem = stemmer.stem(text_clean)\n",
    "    result = ''.join([i for i in text_stem if not i.isdigit()])\n",
    "    result = re.sub(r'[^\\x00-\\x7f]',r'', result)\n",
    "    result = re.sub(r'[^\\w\\s]','',result)\n",
    "    return result"
   ]
  },
  {
   "cell_type": "code",
   "execution_count": 162,
   "metadata": {},
   "outputs": [
    {
     "data": {
      "text/plain": [
       "'text mining guna manhattan distance similarity'"
      ]
     },
     "execution_count": 162,
     "metadata": {},
     "output_type": "execute_result"
    }
   ],
   "source": [
    "query = \"tolong dong kasih referensi judul tentang text mining menggunakan manhattan distance similarity\"\n",
    "query = query.partition(\"tentang\")[2].lstrip()\n",
    "preprocess(query)"
   ]
  },
  {
   "cell_type": "code",
   "execution_count": 161,
   "metadata": {},
   "outputs": [
    {
     "name": "stdout",
     "output_type": "stream",
     "text": [
      "('tau referensi penelitian', '', '')\n",
      "OK\n"
     ]
    }
   ],
   "source": [
    "query2 = \"tau referensi penelitian\"\n",
    "query2 = query2.partition(\"tentang\")\n",
    "print(query2)\n",
    "if \"tentang\" not in query2:\n",
    "    print(\"OK\")\n",
    "else:\n",
    "    print(\"HAHA\")"
   ]
  },
  {
   "cell_type": "code",
   "execution_count": 140,
   "metadata": {},
   "outputs": [],
   "source": [
    "from sklearn.feature_extraction.text import TfidfVectorizer\n",
    "class Engine(object):\n",
    "    \n",
    "    def __init__(self, query):\n",
    "        self.dataset = pd.read_excel(\"dataset_sample.xlsx\")\n",
    "        self.phrase = [query] + self.dataset[\"preprocessed_title\"].tolist()\n",
    "        self.vectorizer = TfidfVectorizer()\n",
    "        \n",
    "    def get_scores(self):\n",
    "        transform = self.vectorizer.fit_transform(self.phrase)\n",
    "        scores = (transform[0, :] * transform[1:, :].T).A[0]\n",
    "        self.dataset[\"score\"] = scores\n",
    "        result = self.dataset.sort_values(by=\"score\", ascending=False).head(10)\n",
    "        dictionary = {\n",
    "            \"author\": result[\"author\"],\n",
    "            \"title\": result[\"title\"],\n",
    "            \"url\": result[\"url\"],\n",
    "            \"year\": result[\"year\"],\n",
    "            \"score\": result[\"score\"]\n",
    "        }\n",
    "        return dictionary"
   ]
  },
  {
   "cell_type": "code",
   "execution_count": 141,
   "metadata": {
    "scrolled": true
   },
   "outputs": [
    {
     "data": {
      "text/html": [
       "<div>\n",
       "<style scoped>\n",
       "    .dataframe tbody tr th:only-of-type {\n",
       "        vertical-align: middle;\n",
       "    }\n",
       "\n",
       "    .dataframe tbody tr th {\n",
       "        vertical-align: top;\n",
       "    }\n",
       "\n",
       "    .dataframe thead th {\n",
       "        text-align: right;\n",
       "    }\n",
       "</style>\n",
       "<table border=\"1\" class=\"dataframe\">\n",
       "  <thead>\n",
       "    <tr style=\"text-align: right;\">\n",
       "      <th></th>\n",
       "      <th>author</th>\n",
       "      <th>title</th>\n",
       "      <th>url</th>\n",
       "      <th>year</th>\n",
       "      <th>score</th>\n",
       "    </tr>\n",
       "  </thead>\n",
       "  <tbody>\n",
       "    <tr>\n",
       "      <th>1</th>\n",
       "      <td>Tsani Elvia Nita</td>\n",
       "      <td>Text Mining Menggunakan Metode Single Linkage ...</td>\n",
       "      <td>http://digilib.uad.ac.id/penelitian/Penelitian...</td>\n",
       "      <td>2018</td>\n",
       "      <td>0.424493</td>\n",
       "    </tr>\n",
       "    <tr>\n",
       "      <th>2</th>\n",
       "      <td>Nurlaila</td>\n",
       "      <td>Text Mining Menggunakan Metode Snn Dengan Evcl...</td>\n",
       "      <td>http://digilib.uad.ac.id/penelitian/Penelitian...</td>\n",
       "      <td>2019</td>\n",
       "      <td>0.243785</td>\n",
       "    </tr>\n",
       "    <tr>\n",
       "      <th>5</th>\n",
       "      <td>Ika Kurnia Saputri</td>\n",
       "      <td>Penerapan Text Mining Pengelompokkan Judul Ker...</td>\n",
       "      <td>http://digilib.uad.ac.id/penelitian/Penelitian...</td>\n",
       "      <td>2017</td>\n",
       "      <td>0.196898</td>\n",
       "    </tr>\n",
       "    <tr>\n",
       "      <th>7</th>\n",
       "      <td>Ade Antika</td>\n",
       "      <td>Implementasi Text Mining Pengelompokkan Judul ...</td>\n",
       "      <td>http://digilib.uad.ac.id/penelitian/Penelitian...</td>\n",
       "      <td>2019</td>\n",
       "      <td>0.194389</td>\n",
       "    </tr>\n",
       "    <tr>\n",
       "      <th>6</th>\n",
       "      <td>Vega Purwayoga</td>\n",
       "      <td>Pemanfaatan Text Mining Untuk Mengklasifikasi ...</td>\n",
       "      <td>http://digilib.uad.ac.id/penelitian/Penelitian...</td>\n",
       "      <td>2016</td>\n",
       "      <td>0.084970</td>\n",
       "    </tr>\n",
       "    <tr>\n",
       "      <th>10</th>\n",
       "      <td>Anang Marfianto</td>\n",
       "      <td>Analisis Forensik Whats App Mesengger Berbasis...</td>\n",
       "      <td>http://digilib.uad.ac.id/penelitian/Penelitian...</td>\n",
       "      <td>2018</td>\n",
       "      <td>0.079571</td>\n",
       "    </tr>\n",
       "    <tr>\n",
       "      <th>8</th>\n",
       "      <td>Alfin Fajar Nurrahman</td>\n",
       "      <td>Aplikasi Web Dengan Text Mining Untuk Pengelom...</td>\n",
       "      <td>http://digilib.uad.ac.id/penelitian/Penelitian...</td>\n",
       "      <td>2016</td>\n",
       "      <td>0.070473</td>\n",
       "    </tr>\n",
       "    <tr>\n",
       "      <th>3</th>\n",
       "      <td>Nurmulyaningsih</td>\n",
       "      <td>Text Mining Klasifikasi Judul Skripsi Teknik I...</td>\n",
       "      <td>http://digilib.uad.ac.id/penelitian/Penelitian...</td>\n",
       "      <td>2018</td>\n",
       "      <td>0.062175</td>\n",
       "    </tr>\n",
       "    <tr>\n",
       "      <th>11</th>\n",
       "      <td>Taufik Mufti Haryadi</td>\n",
       "      <td>Rancang Bangun Data Mining Untuk Mencari Pola ...</td>\n",
       "      <td>http://digilib.uad.ac.id/penelitian/Penelitian...</td>\n",
       "      <td>2017</td>\n",
       "      <td>0.033592</td>\n",
       "    </tr>\n",
       "    <tr>\n",
       "      <th>17</th>\n",
       "      <td>Aprial Andi Purnama</td>\n",
       "      <td>Penerapan Data Mining Untuk Clustering Status ...</td>\n",
       "      <td>http://digilib.uad.ac.id/penelitian/Penelitian...</td>\n",
       "      <td>2018</td>\n",
       "      <td>0.027187</td>\n",
       "    </tr>\n",
       "  </tbody>\n",
       "</table>\n",
       "</div>"
      ],
      "text/plain": [
       "                    author                                              title  \\\n",
       "1         Tsani Elvia Nita  Text Mining Menggunakan Metode Single Linkage ...   \n",
       "2                 Nurlaila  Text Mining Menggunakan Metode Snn Dengan Evcl...   \n",
       "5       Ika Kurnia Saputri  Penerapan Text Mining Pengelompokkan Judul Ker...   \n",
       "7               Ade Antika  Implementasi Text Mining Pengelompokkan Judul ...   \n",
       "6           Vega Purwayoga  Pemanfaatan Text Mining Untuk Mengklasifikasi ...   \n",
       "10         Anang Marfianto  Analisis Forensik Whats App Mesengger Berbasis...   \n",
       "8    Alfin Fajar Nurrahman  Aplikasi Web Dengan Text Mining Untuk Pengelom...   \n",
       "3          Nurmulyaningsih  Text Mining Klasifikasi Judul Skripsi Teknik I...   \n",
       "11    Taufik Mufti Haryadi  Rancang Bangun Data Mining Untuk Mencari Pola ...   \n",
       "17     Aprial Andi Purnama  Penerapan Data Mining Untuk Clustering Status ...   \n",
       "\n",
       "                                                  url  year     score  \n",
       "1   http://digilib.uad.ac.id/penelitian/Penelitian...  2018  0.424493  \n",
       "2   http://digilib.uad.ac.id/penelitian/Penelitian...  2019  0.243785  \n",
       "5   http://digilib.uad.ac.id/penelitian/Penelitian...  2017  0.196898  \n",
       "7   http://digilib.uad.ac.id/penelitian/Penelitian...  2019  0.194389  \n",
       "6   http://digilib.uad.ac.id/penelitian/Penelitian...  2016  0.084970  \n",
       "10  http://digilib.uad.ac.id/penelitian/Penelitian...  2018  0.079571  \n",
       "8   http://digilib.uad.ac.id/penelitian/Penelitian...  2016  0.070473  \n",
       "3   http://digilib.uad.ac.id/penelitian/Penelitian...  2018  0.062175  \n",
       "11  http://digilib.uad.ac.id/penelitian/Penelitian...  2017  0.033592  \n",
       "17  http://digilib.uad.ac.id/penelitian/Penelitian...  2018  0.027187  "
      ]
     },
     "execution_count": 141,
     "metadata": {},
     "output_type": "execute_result"
    }
   ],
   "source": [
    "test = Engine(query=preprocess(query))\n",
    "data = test.get_scores()\n",
    "nn = pd.DataFrame(data)\n",
    "nn"
   ]
  },
  {
   "cell_type": "code",
   "execution_count": 148,
   "metadata": {},
   "outputs": [
    {
     "name": "stdout",
     "output_type": "stream",
     "text": [
      "0.4244927829605457\n",
      "0.24378495116457477\n",
      "0.19689846279677187\n",
      "0.19438872471548307\n",
      "0.084970049613026\n",
      "0.07957119132083751\n",
      "0.07047333966337858\n",
      "0.0621754640308416\n",
      "0.033591993715763664\n",
      "0.027187116363177433\n"
     ]
    }
   ],
   "source": [
    "for i in range(len(data[\"author\"])):\n",
    "    author = float(list(data[\"score\"])[i])\n",
    "    print(author)"
   ]
  },
  {
   "cell_type": "code",
   "execution_count": 105,
   "metadata": {},
   "outputs": [],
   "source": [
    "dataset = pd.read_excel(\"dataset_raw.xlsx\")"
   ]
  },
  {
   "cell_type": "code",
   "execution_count": 107,
   "metadata": {},
   "outputs": [],
   "source": [
    "pre = list()\n",
    "for x in dataset[\"title\"]:\n",
    "    pre.append(preprocess(x))"
   ]
  },
  {
   "cell_type": "code",
   "execution_count": 144,
   "metadata": {},
   "outputs": [
    {
     "data": {
      "text/plain": [
       "'Tsani Elvia Nita'"
      ]
     },
     "execution_count": 144,
     "metadata": {},
     "output_type": "execute_result"
    }
   ],
   "source": [
    "list(data[\"author\"])[0].lstrip()"
   ]
  },
  {
   "cell_type": "code",
   "execution_count": 149,
   "metadata": {},
   "outputs": [
    {
     "data": {
      "text/plain": [
       "'                    author                                              title                                                url  year     score\\n1         Tsani Elvia Nita  Text Mining Menggunakan Metode Single Linkage ...  http://digilib.uad.ac.id/penelitian/Penelitian...  2018  0.424493\\n2                 Nurlaila  Text Mining Menggunakan Metode Snn Dengan Evcl...  http://digilib.uad.ac.id/penelitian/Penelitian...  2019  0.243785\\n5       Ika Kurnia Saputri  Penerapan Text Mining Pengelompokkan Judul Ker...  http://digilib.uad.ac.id/penelitian/Penelitian...  2017  0.196898\\n7               Ade Antika  Implementasi Text Mining Pengelompokkan Judul ...  http://digilib.uad.ac.id/penelitian/Penelitian...  2019  0.194389\\n6           Vega Purwayoga  Pemanfaatan Text Mining Untuk Mengklasifikasi ...  http://digilib.uad.ac.id/penelitian/Penelitian...  2016  0.084970\\n10         Anang Marfianto  Analisis Forensik Whats App Mesengger Berbasis...  http://digilib.uad.ac.id/penelitian/Penelitian...  2018  0.079571\\n8    Alfin Fajar Nurrahman  Aplikasi Web Dengan Text Mining Untuk Pengelom...  http://digilib.uad.ac.id/penelitian/Penelitian...  2016  0.070473\\n3          Nurmulyaningsih  Text Mining Klasifikasi Judul Skripsi Teknik I...  http://digilib.uad.ac.id/penelitian/Penelitian...  2018  0.062175\\n11    Taufik Mufti Haryadi  Rancang Bangun Data Mining Untuk Mencari Pola ...  http://digilib.uad.ac.id/penelitian/Penelitian...  2017  0.033592\\n17     Aprial Andi Purnama  Penerapan Data Mining Untuk Clustering Status ...  http://digilib.uad.ac.id/penelitian/Penelitian...  2018  0.027187'"
      ]
     },
     "execution_count": 149,
     "metadata": {},
     "output_type": "execute_result"
    }
   ],
   "source": [
    "nn.to_string()"
   ]
  },
  {
   "cell_type": "code",
   "execution_count": null,
   "metadata": {},
   "outputs": [],
   "source": []
  }
 ],
 "metadata": {
  "kernelspec": {
   "display_name": "Python 3",
   "language": "python",
   "name": "python3"
  },
  "language_info": {
   "codemirror_mode": {
    "name": "ipython",
    "version": 3
   },
   "file_extension": ".py",
   "mimetype": "text/x-python",
   "name": "python",
   "nbconvert_exporter": "python",
   "pygments_lexer": "ipython3",
   "version": "3.7.3"
  }
 },
 "nbformat": 4,
 "nbformat_minor": 2
}
